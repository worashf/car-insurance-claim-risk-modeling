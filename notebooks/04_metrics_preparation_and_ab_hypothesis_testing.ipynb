{
 "cells": [
  {
   "metadata": {
    "ExecuteTime": {
     "end_time": "2025-06-17T13:50:45.433187Z",
     "start_time": "2025-06-17T13:50:45.430518Z"
    }
   },
   "cell_type": "code",
   "source": "",
   "id": "bbd934fcce17ebf4",
   "outputs": [],
   "execution_count": null
  },
  {
   "metadata": {},
   "cell_type": "markdown",
   "source": [
    "## Metric Calculation:\n",
    "1. Safely calculating Loss Ratio by province.\n",
    "2. Aggregating data for Claim Frequency and Average Claim Amount by month.\n",
    "3.  Preparing data for Vehicle Make Risk Profile.\n",
    "### Professional Visualizations: Generating three key plots:\n",
    "1. Loss Ratio by Province: With profitability markers.\n",
    "2.  Temporal Trends in Claims: Dual-axis plot for frequency and severity.\n",
    "3. Vehicle Make Risk Profile: Claim frequency and distribution of claim amounts by make."
   ],
   "id": "a7310c1112cddba4"
  },
  {
   "metadata": {
    "ExecuteTime": {
     "end_time": "2025-06-17T13:51:01.993566Z",
     "start_time": "2025-06-17T13:50:45.442009Z"
    }
   },
   "cell_type": "code",
   "source": [
    "import sys\n",
    "import pandas as pd\n",
    "\n",
    "from src import (load_clean_data, load_raw_data, plot_distributions,save_processed_data,\n",
    "                 detect_outliers, create_insightful_visuals, calculate_aggregated_metrics)\n",
    "sys.path.append(\"../src\")\n",
    "file_path  = '../data/raw/MachineLearningRating_v3.txt'\n",
    "insurance_df = load_raw_data(file_path)\n",
    "insurance_df.head()\n"
   ],
   "id": "d92909114b9d5311",
   "outputs": [
    {
     "name": "stderr",
     "output_type": "stream",
     "text": [
      "INFO:src.utils.load_data:Loaded 1000098 records from ../data/raw/MachineLearningRating_v3.txt.\n"
     ]
    },
    {
     "data": {
      "text/plain": [
       "   UnderwrittenCoverID  PolicyID     TransactionMonth  IsVATRegistered  \\\n",
       "0               145249     12827  2015-03-01 00:00:00             True   \n",
       "1               145249     12827  2015-05-01 00:00:00             True   \n",
       "2               145249     12827  2015-07-01 00:00:00             True   \n",
       "3              1452155     12827  2015-05-01 00:00:00             True   \n",
       "4               145255     12827  2015-07-01 00:00:00             True   \n",
       "\n",
       "  Citizenship          LegalType Title Language                 Bank  \\\n",
       "0              Close Corporation    Mr  English  First National Bank   \n",
       "1              Close Corporation    Mr  English  First National Bank   \n",
       "2              Close Corporation    Mr  English  First National Bank   \n",
       "3              Close Corporation    Mr  English  First National Bank   \n",
       "4              Close Corporation    Mr  English  First National Bank   \n",
       "\n",
       "       AccountType  ...                    ExcessSelected CoverCategory  \\\n",
       "0  Current account  ...             Mobility - Windscreen    Windscreen   \n",
       "1  Current account  ...             Mobility - Windscreen    Windscreen   \n",
       "2  Current account  ...             Mobility - Windscreen    Windscreen   \n",
       "3  Current account  ...  Mobility - Metered Taxis - R2000    Own damage   \n",
       "4  Current account  ...  Mobility - Metered Taxis - R2000    Own damage   \n",
       "\n",
       "    CoverType            CoverGroup              Section  \\\n",
       "0  Windscreen  Comprehensive - Taxi  Motor Comprehensive   \n",
       "1  Windscreen  Comprehensive - Taxi  Motor Comprehensive   \n",
       "2  Windscreen  Comprehensive - Taxi  Motor Comprehensive   \n",
       "3  Own Damage  Comprehensive - Taxi  Motor Comprehensive   \n",
       "4  Own Damage  Comprehensive - Taxi  Motor Comprehensive   \n",
       "\n",
       "                           Product StatutoryClass StatutoryRiskType  \\\n",
       "0  Mobility Metered Taxis: Monthly     Commercial     IFRS Constant   \n",
       "1  Mobility Metered Taxis: Monthly     Commercial     IFRS Constant   \n",
       "2  Mobility Metered Taxis: Monthly     Commercial     IFRS Constant   \n",
       "3  Mobility Metered Taxis: Monthly     Commercial     IFRS Constant   \n",
       "4  Mobility Metered Taxis: Monthly     Commercial     IFRS Constant   \n",
       "\n",
       "   TotalPremium   TotalClaims  \n",
       "0     21.929825  9.000000e-13  \n",
       "1     21.929825  0.000000e+00  \n",
       "2      0.000000  0.000000e+00  \n",
       "3    512.848070  0.000000e+00  \n",
       "4      0.000000  0.000000e+00  \n",
       "\n",
       "[5 rows x 52 columns]"
      ],
      "text/html": [
       "<div>\n",
       "<style scoped>\n",
       "    .dataframe tbody tr th:only-of-type {\n",
       "        vertical-align: middle;\n",
       "    }\n",
       "\n",
       "    .dataframe tbody tr th {\n",
       "        vertical-align: top;\n",
       "    }\n",
       "\n",
       "    .dataframe thead th {\n",
       "        text-align: right;\n",
       "    }\n",
       "</style>\n",
       "<table border=\"1\" class=\"dataframe\">\n",
       "  <thead>\n",
       "    <tr style=\"text-align: right;\">\n",
       "      <th></th>\n",
       "      <th>UnderwrittenCoverID</th>\n",
       "      <th>PolicyID</th>\n",
       "      <th>TransactionMonth</th>\n",
       "      <th>IsVATRegistered</th>\n",
       "      <th>Citizenship</th>\n",
       "      <th>LegalType</th>\n",
       "      <th>Title</th>\n",
       "      <th>Language</th>\n",
       "      <th>Bank</th>\n",
       "      <th>AccountType</th>\n",
       "      <th>...</th>\n",
       "      <th>ExcessSelected</th>\n",
       "      <th>CoverCategory</th>\n",
       "      <th>CoverType</th>\n",
       "      <th>CoverGroup</th>\n",
       "      <th>Section</th>\n",
       "      <th>Product</th>\n",
       "      <th>StatutoryClass</th>\n",
       "      <th>StatutoryRiskType</th>\n",
       "      <th>TotalPremium</th>\n",
       "      <th>TotalClaims</th>\n",
       "    </tr>\n",
       "  </thead>\n",
       "  <tbody>\n",
       "    <tr>\n",
       "      <th>0</th>\n",
       "      <td>145249</td>\n",
       "      <td>12827</td>\n",
       "      <td>2015-03-01 00:00:00</td>\n",
       "      <td>True</td>\n",
       "      <td></td>\n",
       "      <td>Close Corporation</td>\n",
       "      <td>Mr</td>\n",
       "      <td>English</td>\n",
       "      <td>First National Bank</td>\n",
       "      <td>Current account</td>\n",
       "      <td>...</td>\n",
       "      <td>Mobility - Windscreen</td>\n",
       "      <td>Windscreen</td>\n",
       "      <td>Windscreen</td>\n",
       "      <td>Comprehensive - Taxi</td>\n",
       "      <td>Motor Comprehensive</td>\n",
       "      <td>Mobility Metered Taxis: Monthly</td>\n",
       "      <td>Commercial</td>\n",
       "      <td>IFRS Constant</td>\n",
       "      <td>21.929825</td>\n",
       "      <td>9.000000e-13</td>\n",
       "    </tr>\n",
       "    <tr>\n",
       "      <th>1</th>\n",
       "      <td>145249</td>\n",
       "      <td>12827</td>\n",
       "      <td>2015-05-01 00:00:00</td>\n",
       "      <td>True</td>\n",
       "      <td></td>\n",
       "      <td>Close Corporation</td>\n",
       "      <td>Mr</td>\n",
       "      <td>English</td>\n",
       "      <td>First National Bank</td>\n",
       "      <td>Current account</td>\n",
       "      <td>...</td>\n",
       "      <td>Mobility - Windscreen</td>\n",
       "      <td>Windscreen</td>\n",
       "      <td>Windscreen</td>\n",
       "      <td>Comprehensive - Taxi</td>\n",
       "      <td>Motor Comprehensive</td>\n",
       "      <td>Mobility Metered Taxis: Monthly</td>\n",
       "      <td>Commercial</td>\n",
       "      <td>IFRS Constant</td>\n",
       "      <td>21.929825</td>\n",
       "      <td>0.000000e+00</td>\n",
       "    </tr>\n",
       "    <tr>\n",
       "      <th>2</th>\n",
       "      <td>145249</td>\n",
       "      <td>12827</td>\n",
       "      <td>2015-07-01 00:00:00</td>\n",
       "      <td>True</td>\n",
       "      <td></td>\n",
       "      <td>Close Corporation</td>\n",
       "      <td>Mr</td>\n",
       "      <td>English</td>\n",
       "      <td>First National Bank</td>\n",
       "      <td>Current account</td>\n",
       "      <td>...</td>\n",
       "      <td>Mobility - Windscreen</td>\n",
       "      <td>Windscreen</td>\n",
       "      <td>Windscreen</td>\n",
       "      <td>Comprehensive - Taxi</td>\n",
       "      <td>Motor Comprehensive</td>\n",
       "      <td>Mobility Metered Taxis: Monthly</td>\n",
       "      <td>Commercial</td>\n",
       "      <td>IFRS Constant</td>\n",
       "      <td>0.000000</td>\n",
       "      <td>0.000000e+00</td>\n",
       "    </tr>\n",
       "    <tr>\n",
       "      <th>3</th>\n",
       "      <td>1452155</td>\n",
       "      <td>12827</td>\n",
       "      <td>2015-05-01 00:00:00</td>\n",
       "      <td>True</td>\n",
       "      <td></td>\n",
       "      <td>Close Corporation</td>\n",
       "      <td>Mr</td>\n",
       "      <td>English</td>\n",
       "      <td>First National Bank</td>\n",
       "      <td>Current account</td>\n",
       "      <td>...</td>\n",
       "      <td>Mobility - Metered Taxis - R2000</td>\n",
       "      <td>Own damage</td>\n",
       "      <td>Own Damage</td>\n",
       "      <td>Comprehensive - Taxi</td>\n",
       "      <td>Motor Comprehensive</td>\n",
       "      <td>Mobility Metered Taxis: Monthly</td>\n",
       "      <td>Commercial</td>\n",
       "      <td>IFRS Constant</td>\n",
       "      <td>512.848070</td>\n",
       "      <td>0.000000e+00</td>\n",
       "    </tr>\n",
       "    <tr>\n",
       "      <th>4</th>\n",
       "      <td>145255</td>\n",
       "      <td>12827</td>\n",
       "      <td>2015-07-01 00:00:00</td>\n",
       "      <td>True</td>\n",
       "      <td></td>\n",
       "      <td>Close Corporation</td>\n",
       "      <td>Mr</td>\n",
       "      <td>English</td>\n",
       "      <td>First National Bank</td>\n",
       "      <td>Current account</td>\n",
       "      <td>...</td>\n",
       "      <td>Mobility - Metered Taxis - R2000</td>\n",
       "      <td>Own damage</td>\n",
       "      <td>Own Damage</td>\n",
       "      <td>Comprehensive - Taxi</td>\n",
       "      <td>Motor Comprehensive</td>\n",
       "      <td>Mobility Metered Taxis: Monthly</td>\n",
       "      <td>Commercial</td>\n",
       "      <td>IFRS Constant</td>\n",
       "      <td>0.000000</td>\n",
       "      <td>0.000000e+00</td>\n",
       "    </tr>\n",
       "  </tbody>\n",
       "</table>\n",
       "<p>5 rows × 52 columns</p>\n",
       "</div>"
      ]
     },
     "execution_count": 1,
     "metadata": {},
     "output_type": "execute_result"
    }
   ],
   "execution_count": 1
  },
  {
   "metadata": {
    "ExecuteTime": {
     "end_time": "2025-06-17T13:51:31.183999Z",
     "start_time": "2025-06-17T13:51:02.015455Z"
    }
   },
   "cell_type": "code",
   "source": [
    "\n",
    "clean_data = save_processed_data(insurance_df)"
   ],
   "id": "5a4eb791cacde479",
   "outputs": [
    {
     "name": "stderr",
     "output_type": "stream",
     "text": [
      "INFO:src.utils.save_data:Successfully saved 1000098 records to /Users/worash/Desktop/tenx/week3/car-insurance-predictive-model/data/clean/car_insurance_processed.txt\n"
     ]
    }
   ],
   "execution_count": 2
  },
  {
   "metadata": {},
   "cell_type": "markdown",
   "source": "### calculate aggregated metrics",
   "id": "8acccbcc0e4c6a6a"
  },
  {
   "metadata": {
    "ExecuteTime": {
     "end_time": "2025-06-17T13:51:32.167958Z",
     "start_time": "2025-06-17T13:51:31.201382Z"
    }
   },
   "cell_type": "code",
   "source": "aggregated_df = calculate_aggregated_metrics(clean_data)",
   "id": "cc9c0c1f7c032fd7",
   "outputs": [],
   "execution_count": 3
  },
  {
   "metadata": {
    "ExecuteTime": {
     "end_time": "2025-06-17T13:51:32.190751Z",
     "start_time": "2025-06-17T13:51:32.178440Z"
    }
   },
   "cell_type": "code",
   "source": "print(aggregated_df.tail())",
   "id": "a4122efe07769ed2",
   "outputs": [
    {
     "name": "stdout",
     "output_type": "stream",
     "text": [
      "         Province  PostalCode         Gender  ClaimFrequency  TotalPolicies  \\\n",
      "977  Western Cape        8020           Male        0.001792            558   \n",
      "978  Western Cape        8020  Not specified        0.001628           4299   \n",
      "979  Western Cape        8040  Not specified        0.000000            390   \n",
      "980  Western Cape        8051  Not specified        0.003386            886   \n",
      "981  Western Cape        8060  Not specified        0.003643            549   \n",
      "\n",
      "     ClaimCount  TotalPremiums  TotalClaimAmounts  ClaimSeverity        Margin  \n",
      "977           1   13606.915690        4258.263158    4258.263158   9348.652533  \n",
      "978           7  301095.673685      303430.939298   43347.277043  -2335.265613  \n",
      "979           0   34186.621619           0.000000       0.000000  34186.621619  \n",
      "980           3   31717.301055       47488.912281   15829.637427 -15771.611225  \n",
      "981           2   46676.236996       45745.614035   22872.807018    930.622961  \n"
     ]
    }
   ],
   "execution_count": 4
  },
  {
   "metadata": {
    "ExecuteTime": {
     "end_time": "2025-06-17T13:51:32.231914Z",
     "start_time": "2025-06-17T13:51:32.199170Z"
    }
   },
   "cell_type": "code",
   "source": [
    "import  sys\n",
    "sys.path.append(\"../src\")\n",
    "from src import  analyze_and_report_ab_test\n",
    "\n",
    " # Step 3: Analyze and report using A/B testing\n",
    "analyze_and_report_ab_test(aggregated_df)"
   ],
   "id": "2bf9c9de51924a6a",
   "outputs": [
    {
     "name": "stdout",
     "output_type": "stream",
     "text": [
      "--- A/B Hypothesis Testing Analysis Report ---\n",
      "Significance Level (alpha): 0.05\n",
      "\n",
      "## 1. Province Risk and Profit Differences\n",
      "H₀: No risk difference (Claim Frequency) across provinces (Eastern Cape vs Free State): **FAILED TO REJECT** (p = 0.6705).\n",
      "   Interpretation: No statistically significant difference in Claim Frequency was found between Province Eastern Cape and Province Free State.\n",
      "   Mean Freq Eastern Cape: 0.0013, Mean Freq Free State: 0.0016\n",
      "H₀: No risk difference (Claim Severity) across provinces (Eastern Cape vs Free State): **FAILED TO REJECT** (p = 0.7799).\n",
      "   Interpretation: No statistically significant difference in Claim Severity was found between Province Eastern Cape and Province Free State.\n",
      "   Mean Severity Eastern Cape: 8748.96, Mean Severity Free State: 10703.47\n",
      "H₀: No margin difference across provinces (Eastern Cape vs Free State): **FAILED TO REJECT** (p = 0.7027).\n",
      "   Interpretation: No statistically significant difference in Margin was found between Province Eastern Cape and Province Free State.\n",
      "   Mean Margin Eastern Cape: 9795.96, Mean Margin Free State: 6401.58\n",
      "\n",
      "\n",
      "## 2. Zip Code Risk and Profit Differences\n",
      "Warning: Chi-squared test for 'ClaimFrequency' between groups may be unreliable due to low counts in contingency table:\n",
      "        Claim  NoClaim\n",
      "Group1      0       11\n",
      "Group2      2      335\n",
      "Returning NaN.\n",
      "H₀: No risk difference (Claim Frequency) between zip codes (4811 vs 5050): Test could not be performed or is unreliable (p = nan). Need more data.\n",
      "H₀: No risk difference (Claim Severity) between zip codes (4811 vs 5050): Test could not be performed (p = nan).\n",
      "H₀: No margin difference between zip codes (4811 vs 5050): Test could not be performed (p = nan).\n",
      "\n",
      "\n",
      "## 3. Gender Risk Differences\n",
      "H₀: No risk difference (Claim Frequency) between Not specified and Male: **REJECTED** (p = 0.0165).\n",
      "   Interpretation: There is a statistically significant difference in Claim Frequency between Not specified and Male.\n",
      "   Mean Freq Not specified: 0.0023, Mean Freq Male: 0.0019\n",
      "H₀: No risk difference (Claim Severity) between Not specified and Male: **REJECTED** (p = 0.0001).\n",
      "   Interpretation: There is a statistically significant difference in Claim Severity between Not specified and Male.\n",
      "   Mean Severity Not specified: 11137.50, Mean Severity Male: 5422.42\n",
      "H₀: No margin difference between Not specified and Male: **FAILED TO REJECT** (p = 0.2817).\n",
      "   Interpretation: No statistically significant difference in Margin was found between Not specified and Male.\n",
      "   Mean Margin Not specified: -3999.26, Mean Margin Male: 2210.11\n",
      "\n",
      "--- End of Report ---\n",
      "\n"
     ]
    }
   ],
   "execution_count": 5
  },
  {
   "metadata": {
    "ExecuteTime": {
     "end_time": "2025-06-17T13:51:32.240820Z",
     "start_time": "2025-06-17T13:51:32.238253Z"
    }
   },
   "cell_type": "code",
   "source": "",
   "id": "ccb9d30a1463b346",
   "outputs": [],
   "execution_count": null
  },
  {
   "metadata": {
    "ExecuteTime": {
     "end_time": "2025-06-17T13:51:32.249212Z",
     "start_time": "2025-06-17T13:51:32.246589Z"
    }
   },
   "cell_type": "code",
   "source": "",
   "id": "1919fd662fab1ee",
   "outputs": [],
   "execution_count": null
  },
  {
   "metadata": {
    "ExecuteTime": {
     "end_time": "2025-06-17T13:51:32.257477Z",
     "start_time": "2025-06-17T13:51:32.254834Z"
    }
   },
   "cell_type": "code",
   "source": "",
   "id": "f3156967c9074fb2",
   "outputs": [],
   "execution_count": null
  }
 ],
 "metadata": {
  "kernelspec": {
   "display_name": "Python 3",
   "language": "python",
   "name": "python3"
  },
  "language_info": {
   "codemirror_mode": {
    "name": "ipython",
    "version": 2
   },
   "file_extension": ".py",
   "mimetype": "text/x-python",
   "name": "python",
   "nbconvert_exporter": "python",
   "pygments_lexer": "ipython2",
   "version": "2.7.6"
  }
 },
 "nbformat": 4,
 "nbformat_minor": 5
}
